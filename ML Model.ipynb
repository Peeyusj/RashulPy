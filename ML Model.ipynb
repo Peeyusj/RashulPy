{
 "cells": [
  {
   "cell_type": "code",
   "execution_count": 1,
   "id": "709a3b33-d8a3-4b1f-9c6d-c400b2caf138",
   "metadata": {},
   "outputs": [],
   "source": [
    "import pandas as pd\n",
    "from sklearn.ensemble import RandomForestRegressor\n",
    "from sklearn.metrics import mean_squared_error, r2_score\n",
    "data= pd.read_excel(\"C:\\\\Users\\\\Holisol\\\\Downloads\\\\trial_model1.xlsx\")"
   ]
  },
  {
   "cell_type": "code",
   "execution_count": 2,
   "id": "13cbb91a-ae6f-4a2d-b05c-274efbcbcb53",
   "metadata": {},
   "outputs": [
    {
     "data": {
      "text/html": [
       "<div>\n",
       "<style scoped>\n",
       "    .dataframe tbody tr th:only-of-type {\n",
       "        vertical-align: middle;\n",
       "    }\n",
       "\n",
       "    .dataframe tbody tr th {\n",
       "        vertical-align: top;\n",
       "    }\n",
       "\n",
       "    .dataframe thead th {\n",
       "        text-align: right;\n",
       "    }\n",
       "</style>\n",
       "<table border=\"1\" class=\"dataframe\">\n",
       "  <thead>\n",
       "    <tr style=\"text-align: right;\">\n",
       "      <th></th>\n",
       "      <th>Cost Plus Revenue</th>\n",
       "      <th>Per Unit Revenue</th>\n",
       "      <th>FLS Contribution</th>\n",
       "      <th>BPC Contribution</th>\n",
       "      <th>Others Contribution</th>\n",
       "      <th>Storage Rev</th>\n",
       "      <th>Handling Revenue</th>\n",
       "      <th>No. of Big Customer</th>\n",
       "      <th>No. of Small Customer</th>\n",
       "      <th>Profitability %</th>\n",
       "    </tr>\n",
       "  </thead>\n",
       "  <tbody>\n",
       "    <tr>\n",
       "      <th>0</th>\n",
       "      <td>0.100386</td>\n",
       "      <td>0.899614</td>\n",
       "      <td>0.832866</td>\n",
       "      <td>0.126127</td>\n",
       "      <td>0.041008</td>\n",
       "      <td>0.577135</td>\n",
       "      <td>0.422865</td>\n",
       "      <td>1</td>\n",
       "      <td>10</td>\n",
       "      <td>0.266670</td>\n",
       "    </tr>\n",
       "    <tr>\n",
       "      <th>1</th>\n",
       "      <td>0.672926</td>\n",
       "      <td>0.327074</td>\n",
       "      <td>0.550544</td>\n",
       "      <td>0.000000</td>\n",
       "      <td>0.449456</td>\n",
       "      <td>0.681017</td>\n",
       "      <td>0.318983</td>\n",
       "      <td>1</td>\n",
       "      <td>3</td>\n",
       "      <td>0.281414</td>\n",
       "    </tr>\n",
       "    <tr>\n",
       "      <th>2</th>\n",
       "      <td>0.326551</td>\n",
       "      <td>0.673449</td>\n",
       "      <td>0.959961</td>\n",
       "      <td>0.025032</td>\n",
       "      <td>0.004264</td>\n",
       "      <td>0.429170</td>\n",
       "      <td>0.570830</td>\n",
       "      <td>1</td>\n",
       "      <td>11</td>\n",
       "      <td>0.385211</td>\n",
       "    </tr>\n",
       "    <tr>\n",
       "      <th>3</th>\n",
       "      <td>0.000000</td>\n",
       "      <td>1.000000</td>\n",
       "      <td>0.974009</td>\n",
       "      <td>0.000000</td>\n",
       "      <td>0.025991</td>\n",
       "      <td>0.358528</td>\n",
       "      <td>0.641472</td>\n",
       "      <td>1</td>\n",
       "      <td>19</td>\n",
       "      <td>0.224062</td>\n",
       "    </tr>\n",
       "    <tr>\n",
       "      <th>4</th>\n",
       "      <td>0.069099</td>\n",
       "      <td>0.930901</td>\n",
       "      <td>0.886303</td>\n",
       "      <td>0.056459</td>\n",
       "      <td>0.028523</td>\n",
       "      <td>0.508574</td>\n",
       "      <td>0.491426</td>\n",
       "      <td>1</td>\n",
       "      <td>10</td>\n",
       "      <td>0.266638</td>\n",
       "    </tr>\n",
       "  </tbody>\n",
       "</table>\n",
       "</div>"
      ],
      "text/plain": [
       "   Cost Plus Revenue  Per Unit Revenue  FLS Contribution  BPC Contribution  \\\n",
       "0           0.100386          0.899614          0.832866          0.126127   \n",
       "1           0.672926          0.327074          0.550544          0.000000   \n",
       "2           0.326551          0.673449          0.959961          0.025032   \n",
       "3           0.000000          1.000000          0.974009          0.000000   \n",
       "4           0.069099          0.930901          0.886303          0.056459   \n",
       "\n",
       "   Others Contribution  Storage Rev  Handling Revenue  No. of Big Customer  \\\n",
       "0             0.041008     0.577135          0.422865                    1   \n",
       "1             0.449456     0.681017          0.318983                    1   \n",
       "2             0.004264     0.429170          0.570830                    1   \n",
       "3             0.025991     0.358528          0.641472                    1   \n",
       "4             0.028523     0.508574          0.491426                    1   \n",
       "\n",
       "   No. of Small Customer  Profitability %  \n",
       "0                     10         0.266670  \n",
       "1                      3         0.281414  \n",
       "2                     11         0.385211  \n",
       "3                     19         0.224062  \n",
       "4                     10         0.266638  "
      ]
     },
     "execution_count": 2,
     "metadata": {},
     "output_type": "execute_result"
    }
   ],
   "source": [
    "data.head()"
   ]
  },
  {
   "cell_type": "code",
   "execution_count": 3,
   "id": "9d1a32b5-c3f5-481c-8183-e464d94c9b27",
   "metadata": {},
   "outputs": [],
   "source": [
    "data.drop(['No. of Big Customer', 'No. of Small Customer'], axis=1, inplace=True)"
   ]
  },
  {
   "cell_type": "code",
   "execution_count": 4,
   "id": "52432bf2-4946-4d4a-ae11-60ba337e0f02",
   "metadata": {},
   "outputs": [
    {
     "data": {
      "text/html": [
       "<div>\n",
       "<style scoped>\n",
       "    .dataframe tbody tr th:only-of-type {\n",
       "        vertical-align: middle;\n",
       "    }\n",
       "\n",
       "    .dataframe tbody tr th {\n",
       "        vertical-align: top;\n",
       "    }\n",
       "\n",
       "    .dataframe thead th {\n",
       "        text-align: right;\n",
       "    }\n",
       "</style>\n",
       "<table border=\"1\" class=\"dataframe\">\n",
       "  <thead>\n",
       "    <tr style=\"text-align: right;\">\n",
       "      <th></th>\n",
       "      <th>Cost Plus Revenue</th>\n",
       "      <th>Per Unit Revenue</th>\n",
       "      <th>FLS Contribution</th>\n",
       "      <th>BPC Contribution</th>\n",
       "      <th>Others Contribution</th>\n",
       "      <th>Storage Rev</th>\n",
       "      <th>Handling Revenue</th>\n",
       "      <th>Profitability %</th>\n",
       "    </tr>\n",
       "  </thead>\n",
       "  <tbody>\n",
       "    <tr>\n",
       "      <th>0</th>\n",
       "      <td>0.100386</td>\n",
       "      <td>0.899614</td>\n",
       "      <td>0.832866</td>\n",
       "      <td>0.126127</td>\n",
       "      <td>0.041008</td>\n",
       "      <td>0.577135</td>\n",
       "      <td>0.422865</td>\n",
       "      <td>0.266670</td>\n",
       "    </tr>\n",
       "    <tr>\n",
       "      <th>1</th>\n",
       "      <td>0.672926</td>\n",
       "      <td>0.327074</td>\n",
       "      <td>0.550544</td>\n",
       "      <td>0.000000</td>\n",
       "      <td>0.449456</td>\n",
       "      <td>0.681017</td>\n",
       "      <td>0.318983</td>\n",
       "      <td>0.281414</td>\n",
       "    </tr>\n",
       "    <tr>\n",
       "      <th>2</th>\n",
       "      <td>0.326551</td>\n",
       "      <td>0.673449</td>\n",
       "      <td>0.959961</td>\n",
       "      <td>0.025032</td>\n",
       "      <td>0.004264</td>\n",
       "      <td>0.429170</td>\n",
       "      <td>0.570830</td>\n",
       "      <td>0.385211</td>\n",
       "    </tr>\n",
       "    <tr>\n",
       "      <th>3</th>\n",
       "      <td>0.000000</td>\n",
       "      <td>1.000000</td>\n",
       "      <td>0.974009</td>\n",
       "      <td>0.000000</td>\n",
       "      <td>0.025991</td>\n",
       "      <td>0.358528</td>\n",
       "      <td>0.641472</td>\n",
       "      <td>0.224062</td>\n",
       "    </tr>\n",
       "    <tr>\n",
       "      <th>4</th>\n",
       "      <td>0.069099</td>\n",
       "      <td>0.930901</td>\n",
       "      <td>0.886303</td>\n",
       "      <td>0.056459</td>\n",
       "      <td>0.028523</td>\n",
       "      <td>0.508574</td>\n",
       "      <td>0.491426</td>\n",
       "      <td>0.266638</td>\n",
       "    </tr>\n",
       "  </tbody>\n",
       "</table>\n",
       "</div>"
      ],
      "text/plain": [
       "   Cost Plus Revenue  Per Unit Revenue  FLS Contribution  BPC Contribution  \\\n",
       "0           0.100386          0.899614          0.832866          0.126127   \n",
       "1           0.672926          0.327074          0.550544          0.000000   \n",
       "2           0.326551          0.673449          0.959961          0.025032   \n",
       "3           0.000000          1.000000          0.974009          0.000000   \n",
       "4           0.069099          0.930901          0.886303          0.056459   \n",
       "\n",
       "   Others Contribution  Storage Rev  Handling Revenue  Profitability %  \n",
       "0             0.041008     0.577135          0.422865         0.266670  \n",
       "1             0.449456     0.681017          0.318983         0.281414  \n",
       "2             0.004264     0.429170          0.570830         0.385211  \n",
       "3             0.025991     0.358528          0.641472         0.224062  \n",
       "4             0.028523     0.508574          0.491426         0.266638  "
      ]
     },
     "execution_count": 4,
     "metadata": {},
     "output_type": "execute_result"
    }
   ],
   "source": [
    "data.head()"
   ]
  },
  {
   "cell_type": "code",
   "execution_count": 5,
   "id": "2836cfc4-231c-4947-a2f9-31fc4c192b1a",
   "metadata": {},
   "outputs": [
    {
     "name": "stdout",
     "output_type": "stream",
     "text": [
      "Gradient Boosting Regressor R² score: 0.9341\n",
      "Gradient Boosting Regressor Mean Squared Error: 0.0005\n"
     ]
    }
   ],
   "source": [
    "from sklearn.ensemble import GradientBoostingRegressor\n",
    "from sklearn.metrics import mean_squared_error, r2_score\n",
    "\n",
    "# Initialize the model\n",
    "gbr = GradientBoostingRegressor(random_state=42)\n",
    "# Assuming 'data' is your DataFrame and the columns are correctly named\n",
    "X_train = data[['Cost Plus Revenue', 'Per Unit Revenue', 'FLS Contribution', 'BPC Contribution', 'Others Contribution', 'Storage Rev', 'Handling Revenue']]\n",
    "y_train = data['Profitability %']\n",
    "# Fit the model\n",
    "gbr.fit(X_train, y_train)\n",
    "\n",
    "# Make predictions\n",
    "y_pred_gbr = gbr.predict(X_train)\n",
    "\n",
    "# Calculate the accuracy metrics\n",
    "mse_gbr = mean_squared_error(y_train, y_pred_gbr)\n",
    "r2_gbr = r2_score(y_train, y_pred_gbr)\n",
    "print(f'Gradient Boosting Regressor R² score: {r2_gbr:.4f}')\n",
    "print(f'Gradient Boosting Regressor Mean Squared Error: {mse_gbr:.4f}')"
   ]
  },
  {
   "cell_type": "code",
   "execution_count": 6,
   "id": "aded52ac-01f7-4d5b-8448-80404e202613",
   "metadata": {},
   "outputs": [
    {
     "name": "stdout",
     "output_type": "stream",
     "text": [
      "   Cost Plus Revenue  Per Unit Revenue  FLS Contribution  BPC Contribution  \\\n",
      "0               0.39               0.6              0.95              0.02   \n",
      "\n",
      "   Others Contribution  Storage Rev  Handling Revenue  profitability  \n",
      "0                 0.02         0.45              0.54       0.282056  \n"
     ]
    }
   ],
   "source": [
    "new_data = pd.DataFrame({\n",
    "    'Cost Plus Revenue': [0.39],\n",
    "    'Per Unit Revenue': [0.60],\n",
    "    'FLS Contribution': [0.95\n",
    "                        ],\n",
    "    'BPC Contribution': [0.02],\n",
    "    'Others Contribution': [0.02],\n",
    "    \n",
    "    'Storage Rev': [0.45],\n",
    "    'Handling Revenue': [0.54]\n",
    "})\n",
    "\n",
    "# Predict Total Revenue for new data\n",
    "predicted_profitability = gbr.predict(new_data)\n",
    "new_data['profitability'] = predicted_profitability\n",
    "\n",
    "print(new_data)"
   ]
  },
  {
   "cell_type": "code",
   "execution_count": 7,
   "id": "331ab794-e9ae-43d5-b36c-cd1ef58e56cf",
   "metadata": {},
   "outputs": [
    {
     "name": "stdout",
     "output_type": "stream",
     "text": [
      "Model saved as gradient_boosting_regressor_model.pkl\n"
     ]
    }
   ],
   "source": [
    "import pickle\n",
    "\n",
    "# Save the trained Gradient Boosting Regressor model to a .pkl file\n",
    "model_filename = 'gradient_boosting_regressor_model.pkl'\n",
    "with open(model_filename, 'wb') as file:\n",
    "    pickle.dump(gbr, file)\n",
    "\n",
    "print(f\"Model saved as {model_filename}\")"
   ]
  },
  {
   "cell_type": "code",
   "execution_count": 8,
   "id": "9599de7e-e96d-4a69-b259-b9506f9cb295",
   "metadata": {},
   "outputs": [
    {
     "data": {
      "text/plain": [
       "'/mnt/data/gradient_boosting_regressor_model.pkl'"
      ]
     },
     "execution_count": 8,
     "metadata": {},
     "output_type": "execute_result"
    }
   ],
   "source": [
    "# Provide the path to the saved .pkl file for download\n",
    "model_filename = '/mnt/data/gradient_boosting_regressor_model.pkl'\n",
    "model_filename"
   ]
  },
  {
   "cell_type": "code",
   "execution_count": null,
   "id": "01c31e79-cf2e-409c-8b4f-50ac7c11df30",
   "metadata": {},
   "outputs": [],
   "source": []
  }
 ],
 "metadata": {
  "kernelspec": {
   "display_name": "Python 3 (ipykernel)",
   "language": "python",
   "name": "python3"
  },
  "language_info": {
   "codemirror_mode": {
    "name": "ipython",
    "version": 3
   },
   "file_extension": ".py",
   "mimetype": "text/x-python",
   "name": "python",
   "nbconvert_exporter": "python",
   "pygments_lexer": "ipython3",
   "version": "3.11.7"
  }
 },
 "nbformat": 4,
 "nbformat_minor": 5
}
